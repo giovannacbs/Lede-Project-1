{
 "cells": [
  {
   "cell_type": "code",
   "execution_count": 1,
   "id": "89067391-50af-4a82-99e3-c60d6b4ef442",
   "metadata": {},
   "outputs": [],
   "source": [
    "import pandas as pd"
   ]
  },
  {
   "cell_type": "code",
   "execution_count": 2,
   "id": "755001af-d443-4fd0-a0ba-5ef6b057c79d",
   "metadata": {},
   "outputs": [],
   "source": [
    "df = pd.read_excel('CelularesSubtraidos_2025.xlsx', sheet_name=0)"
   ]
  },
  {
   "cell_type": "code",
   "execution_count": 3,
   "id": "d9f60555-43a1-4d48-b1d7-be4043b679e1",
   "metadata": {},
   "outputs": [
    {
     "data": {
      "text/plain": [
       "Index(['ID_DELEGACIA', 'NOME_DEPARTAMENTO', 'NOME_SECCIONAL', 'NOME_DELEGACIA',\n",
       "       'NOME_MUNICIPIO', 'ANO_BO', 'NUM_BO', 'VERSAO',\n",
       "       'NOME_DEPARTAMENTO_CIRC', 'NOME_SECCIONAL_CIRC', 'NOME_DELEGACIA_CIRC',\n",
       "       'NOME_MUNICIPIO_CIRC', 'DATA_OCORRENCIA_BO', 'HORA_OCORRENCIA',\n",
       "       'DESCRICAO_APRESENTACAO', 'DATAHORA_REGISTRO_BO', 'DATA_COMUNICACAO_BO',\n",
       "       'DATAHORA_IMPRESSAO_BO', 'DESCR_PERIODO', 'AUTORIA_BO',\n",
       "       'FLAG_INTOLERANCIA', 'TIPO_INTOLERANCIA', 'FLAG_FLAGRANTE',\n",
       "       'FLAG_STATUS', 'DESC_LEI', 'FLAG_ATO_INFRACIONAL', 'RUBRICA',\n",
       "       'DESCR_CONDUTA', 'DESDOBRAMENTO', 'CIRCUNSTANCIA', 'DESCR_TIPOLOCAL',\n",
       "       'DESCR_SUBTIPOLOCAL', 'CIDADE', 'BAIRRO', 'CEP', 'LOGRADOURO_VERSAO',\n",
       "       'LOGRADOURO', 'NUMERO_LOGRADOURO', 'LATITUDE', 'LONGITUDE',\n",
       "       'CONT_OBJETO', 'DESCR_MODO_OBJETO', 'DESCR_TIPO_OBJETO',\n",
       "       'DESCR_SUBTIPO_OBJETO', 'DESCR_UNIDADE', 'QUANTIDADE_OBJETO',\n",
       "       'MARCA_OBJETO', 'FLAG_BLOQUEIO', 'FLAG_DESBLOQUEIO', 'MES', 'ANO'],\n",
       "      dtype='object')"
      ]
     },
     "execution_count": 3,
     "metadata": {},
     "output_type": "execute_result"
    }
   ],
   "source": [
    "df.columns"
   ]
  },
  {
   "cell_type": "code",
   "execution_count": 4,
   "id": "771e6d2b-ca74-47c0-8b22-fbe4a4897305",
   "metadata": {},
   "outputs": [],
   "source": [
    "# Creating a copy\n",
    "df_original = df\n",
    "df = df_original"
   ]
  },
  {
   "cell_type": "markdown",
   "id": "36b7e2f2-fb62-4ee3-bc66-a5455d448688",
   "metadata": {},
   "source": [
    "### Cleaning:\n",
    "- Dropped rows with missing coordinates or report number\n",
    "- Filtered for cellphone-related robberies only\n",
    "- Removed duplicates by report number\n",
    "- Kept only incidents from 2025\n",
    "- Filtered to São Paulo city only"
   ]
  },
  {
   "cell_type": "code",
   "execution_count": 5,
   "id": "f717045c-762b-4da6-bbdc-eb2df4e1c775",
   "metadata": {},
   "outputs": [
    {
     "data": {
      "text/plain": [
       "132640"
      ]
     },
     "execution_count": 5,
     "metadata": {},
     "output_type": "execute_result"
    }
   ],
   "source": [
    "len(df)"
   ]
  },
  {
   "cell_type": "code",
   "execution_count": 6,
   "id": "44043008-ebd0-4188-b44f-694f09714c80",
   "metadata": {},
   "outputs": [
    {
     "data": {
      "text/plain": [
       "109097"
      ]
     },
     "execution_count": 6,
     "metadata": {},
     "output_type": "execute_result"
    }
   ],
   "source": [
    "cellphone_robbery = [\n",
    "    \"Roubo (art. 157)\",                    # Robbery with violence or threat\n",
    "    \"Furto (art. 155)\",                    # Theft without violence\n",
    "    \"Furto de coisa comum (art. 156)\",     # Theft of jointly owned property\n",
    "    \"Receptação (art. 180)\",               # Possession or sale of stolen property\n",
    "    \"Estelionato (art. 171)\",              # Fraud (e.g., fake sale or scam involving a phone)\n",
    "    \"Extorsão (art. 158)\",                 # Extortion (threats for gain)\n",
    "    \"Extorsão mediante seqüestro (art. 159)\"  # Kidnapping with ransom/extortion\n",
    "]\n",
    "\n",
    "df = df[df['RUBRICA'].isin(cellphone_robbery)]\n",
    "len(df)"
   ]
  },
  {
   "cell_type": "code",
   "execution_count": 7,
   "id": "edfe2828-0945-406f-8a72-d599b6dfef21",
   "metadata": {},
   "outputs": [
    {
     "data": {
      "text/plain": [
       "95229"
      ]
     },
     "execution_count": 7,
     "metadata": {},
     "output_type": "execute_result"
    }
   ],
   "source": [
    "df = df.dropna(subset=['LATITUDE', 'LONGITUDE', 'NUM_BO'])\n",
    "len(df)"
   ]
  },
  {
   "cell_type": "code",
   "execution_count": 8,
   "id": "56a4e9c2-cb96-4f21-8684-b64148d7b0c1",
   "metadata": {},
   "outputs": [
    {
     "data": {
      "text/plain": [
       "75563"
      ]
     },
     "execution_count": 8,
     "metadata": {},
     "output_type": "execute_result"
    }
   ],
   "source": [
    "df = df.drop_duplicates(subset=['NUM_BO'])\n",
    "len(df)"
   ]
  },
  {
   "cell_type": "code",
   "execution_count": 9,
   "id": "3d0fb827-4d03-487c-b7f7-c622f415df4d",
   "metadata": {},
   "outputs": [
    {
     "data": {
      "text/plain": [
       "75545"
      ]
     },
     "execution_count": 9,
     "metadata": {},
     "output_type": "execute_result"
    }
   ],
   "source": [
    "df = df.query('ANO_BO == 2025')\n",
    "len(df)"
   ]
  },
  {
   "cell_type": "code",
   "execution_count": 10,
   "id": "bea844e9-01cf-49c7-a24a-e550a1d9d270",
   "metadata": {},
   "outputs": [
    {
     "data": {
      "text/plain": [
       "46030"
      ]
     },
     "execution_count": 10,
     "metadata": {},
     "output_type": "execute_result"
    }
   ],
   "source": [
    "df = df.query('CIDADE == \"S.PAULO\"')\n",
    "len(df)"
   ]
  },
  {
   "cell_type": "markdown",
   "id": "625cf738-1cf7-4200-aa69-5ab848b743f0",
   "metadata": {},
   "source": [
    "### Reducing places categories"
   ]
  },
  {
   "cell_type": "code",
   "execution_count": 11,
   "id": "9afa118f-9f9d-466f-9038-d3e1bb7d9893",
   "metadata": {
    "scrolled": true
   },
   "outputs": [
    {
     "data": {
      "text/plain": [
       "array(['Outros', 'Interior de Veículo', 'Transeunte', 'Residência', nan,\n",
       "       'Interior Transporte Coletivo', 'Condomínio Residêncial',\n",
       "       'Interior Estabelecimento', 'Veículo', 'Estabelecimento Comercial',\n",
       "       'Aplicativo de Mobilidade Urbana', 'Carga', 'Coletivo',\n",
       "       'Estabelecimento-Outros', 'Pessoa', 'Condomínio Comercial',\n",
       "       'Saidinha de Banco', 'Estabelecimento Ensino', 'Caixa Eletrônico',\n",
       "       'Joalheria'], dtype=object)"
      ]
     },
     "execution_count": 11,
     "metadata": {},
     "output_type": "execute_result"
    }
   ],
   "source": [
    "df['DESCR_CONDUTA'].unique()"
   ]
  },
  {
   "cell_type": "code",
   "execution_count": 12,
   "id": "ba889b67-26dd-45f2-94d2-f113ed30e2e0",
   "metadata": {},
   "outputs": [],
   "source": [
    "descr_conduta_map_reduce = {\n",
    "    \"Outros\": \"Other\",\n",
    "    \"NULL\": \"Other\",\n",
    "    \n",
    "    \"Residência\": \"Residential Area\",\n",
    "    \"Condomínio Residêncial\": \"Residential Area\",\n",
    "\n",
    "    \"Interior de Veículo\": \"Transport\",\n",
    "    \"Veículo\": \"Transport\",\n",
    "    \"Interior Transporte Coletivo\": \"Transport\",\n",
    "    \"Coletivo\": \"Transport\",\n",
    "    \"Aplicativo de Mobilidade Urbana\": \"Transport\",\n",
    "\n",
    "    \"Transeunte\": \"Public Space\",\n",
    "    \"Pessoa\": \"Public Space\",\n",
    "    \"Carga\": \"Public Space\",\n",
    "    \"Fios e Cabos\": \"Public Space\",\n",
    "\n",
    "    \"Interior Estabelecimento\": \"Establishment\",\n",
    "    \"Estabelecimento Comercial\": \"Establishment\",\n",
    "    \"Estabelecimento-Outros\": \"Establishment\",\n",
    "    \"Condomínio Comercial\": \"Establishment\",\n",
    "    \"Estabelecimento Ensino\": \"Establishment\",\n",
    "    \"Joalheria\": \"Establishment\",\n",
    "\n",
    "    \"Estabelecimento Bancário (Roubo/Furto a Banco)\": \"Banking\",\n",
    "    \"Caixa Eletrônico\": \"Banking\",\n",
    "    \"Saidinha de Banco\": \"Banking\"\n",
    "}\n"
   ]
  },
  {
   "cell_type": "code",
   "execution_count": 13,
   "id": "5d021a1b-72ee-4116-99f6-a457d0217380",
   "metadata": {},
   "outputs": [],
   "source": [
    "df['Location_Type'] = df['DESCR_CONDUTA'].map(descr_conduta_map_reduce).fillna(\"Other\")"
   ]
  },
  {
   "cell_type": "markdown",
   "id": "6ca7d548-8f89-4a3b-805a-39bccf6ac7a0",
   "metadata": {},
   "source": [
    "### Selecting columns"
   ]
  },
  {
   "cell_type": "code",
   "execution_count": 14,
   "id": "a2815baf-25de-4909-8a1c-d020f92c5827",
   "metadata": {},
   "outputs": [],
   "source": [
    "df = df[[\n",
    "    'MES',\n",
    "    'LATITUDE',\n",
    "    'LONGITUDE',\n",
    "    'BAIRRO',\n",
    "    'Location_Type',\n",
    "    'DESCR_TIPOLOCAL',\n",
    "    'DESCR_SUBTIPOLOCAL'\n",
    "]]"
   ]
  },
  {
   "cell_type": "markdown",
   "id": "f98f59df-ba8c-481c-be49-cb0bad5dfaee",
   "metadata": {},
   "source": [
    "### Transforming in GeoJson"
   ]
  },
  {
   "cell_type": "code",
   "execution_count": 15,
   "id": "21f8587d-e29d-4b54-acd0-fbf8bf9141e6",
   "metadata": {},
   "outputs": [],
   "source": [
    "import geopandas as gpd\n",
    "from shapely.geometry import Point"
   ]
  },
  {
   "cell_type": "code",
   "execution_count": 16,
   "id": "11a904ab-a099-4580-a4e8-3cacdf427928",
   "metadata": {},
   "outputs": [],
   "source": [
    "df['geometry'] = df.apply(lambda row: Point(row['LONGITUDE'], row['LATITUDE']), axis=1)"
   ]
  },
  {
   "cell_type": "code",
   "execution_count": 17,
   "id": "442ddd9b-5a43-4a49-9c96-23ff6f2a1ea6",
   "metadata": {},
   "outputs": [],
   "source": [
    "gdf = gpd.GeoDataFrame(df, geometry='geometry', crs=\"EPSG:4326\")"
   ]
  },
  {
   "cell_type": "code",
   "execution_count": 18,
   "id": "52b9246f-4a81-4c51-9d1d-37322183a6e0",
   "metadata": {},
   "outputs": [],
   "source": [
    "gdf.to_file(\"robberies_sp_25.geojson\", driver=\"GeoJSON\")"
   ]
  }
 ],
 "metadata": {
  "kernelspec": {
   "display_name": "Python 3 (ipykernel)",
   "language": "python",
   "name": "python3"
  },
  "language_info": {
   "codemirror_mode": {
    "name": "ipython",
    "version": 3
   },
   "file_extension": ".py",
   "mimetype": "text/x-python",
   "name": "python",
   "nbconvert_exporter": "python",
   "pygments_lexer": "ipython3",
   "version": "3.12.6"
  }
 },
 "nbformat": 4,
 "nbformat_minor": 5
}
